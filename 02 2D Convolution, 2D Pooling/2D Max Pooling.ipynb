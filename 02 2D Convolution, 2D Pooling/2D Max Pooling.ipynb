{
 "cells": [
  {
   "cell_type": "markdown",
   "metadata": {},
   "source": [
    "# 2D Max Pooling\n",
    "Your code will take as input:\n",
    "\n",
    "* a tensor *input* with shape (n, iC, H, W);\n",
    "* a kernel height *kH* and a kernel width *kW*;\n",
    "* a stride *s*;\n",
    "\n",
    "It needs then to apply a 2D max-pooling over *input*, using the given kernel size and stride, and store the result in *out*. Input *input* has dtype torch.float32."
   ]
  },
  {
   "cell_type": "code",
   "execution_count": 1,
   "metadata": {},
   "outputs": [],
   "source": [
    "import random\n",
    "import torch\n",
    "\n",
    "n = random.randint(2, 6)\n",
    "iC = random.randint(2, 6)\n",
    "H = random.randint(10, 20)\n",
    "W = random.randint(10, 20)\n",
    "kH = random.randint(2, 5)\n",
    "kW = random.randint(2, 5)\n",
    "s = random.randint(2, 3)\n",
    "input = torch.rand((n, iC, H, W), dtype=torch.float32)"
   ]
  },
  {
   "cell_type": "code",
   "execution_count": 7,
   "metadata": {},
   "outputs": [],
   "source": [
    "wo = int((W - kW)/s + 1)\n",
    "ho = int((H - kH)/s + 1)\n",
    "out = torch.zeros((n,iC,ho,wo))\n",
    "for i in range(wo):\n",
    "    for j in range(ho):\n",
    "        im = input[:,:,j:j+kH,i:i+kW]\n",
    "        im = im.reshape((n,iC,-1))\n",
    "        res,_ = torch.max(im,dim=2)\n",
    "        out[:,:,j,i] = res"
   ]
  }
 ],
 "metadata": {
  "kernelspec": {
   "display_name": "Python 3.8.15 ('cvcs')",
   "language": "python",
   "name": "python3"
  },
  "language_info": {
   "codemirror_mode": {
    "name": "ipython",
    "version": 3
   },
   "file_extension": ".py",
   "mimetype": "text/x-python",
   "name": "python",
   "nbconvert_exporter": "python",
   "pygments_lexer": "ipython3",
   "version": "3.8.15"
  },
  "orig_nbformat": 4,
  "vscode": {
   "interpreter": {
    "hash": "7bbfd6784df6fbfc7d8f0bcf4217ce09583e76b62075abb50a2d3eb40621ede0"
   }
  }
 },
 "nbformat": 4,
 "nbformat_minor": 2
}
