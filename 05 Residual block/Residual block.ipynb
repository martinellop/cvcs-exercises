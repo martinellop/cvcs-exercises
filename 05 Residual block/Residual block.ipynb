{
 "cells": [
  {
   "cell_type": "markdown",
   "metadata": {},
   "source": [
    "# Residual Block\n",
    "\n",
    "A residual block is defined as y=σ(F(x)+G(x))\n",
    "\n",
    "where x and y represent the input and output tensors of the block, σ is the ReLU activation function, F is the residual function to be learned and G is a projection shortcut used to match dimensions between F(x) and x.\n",
    "\n",
    "Your code needs to define a ResidualBlock class (inherited from nn.Module) which implements a residual block. In your code, F will be implemented with two convolutional layers with a ReLU non-linearity between them, i.e. F=conv2(σ(conv1(x))). Batch normalization will also be adopted right after each convolution operation.\n",
    "\n",
    "The constructor of the ResidualBlock class needs to take the following arguments as input:\n",
    "\n",
    "* *inplanes*, the number of channels of x;\n",
    "\n",
    "* *planes*, the number of output channels of conv1 and conv2;\n",
    "\n",
    "* *stride*, the stride of conv1;\n",
    "\n",
    "If the shapes of F(x) and x do not match (either because inplanes != planes, or because stride > 1) ResidualBlock also needs to apply a projection shortcut G, composed of a convolutional layer with kernel size 1×1, no bias, no padding and stride stride, followed by a batch normalization. Otherwise G is simply the identity function.\n",
    "\n",
    "The forward method of ResidualBlock will take as input the input tensor x and return the output tensor y, after performing all the operations of a Residual block.\n",
    "\n",
    "Additional details\n",
    "Unless otherwise specified, convolutional layers must have 3×3 kernels, stride 1, padding 1 and no bias."
   ]
  },
  {
   "cell_type": "code",
   "execution_count": 3,
   "metadata": {},
   "outputs": [],
   "source": [
    "import torch\n",
    "from torch import nn\n",
    "\n",
    "class ResidualBlock(nn.Module):\n",
    "    def __init__(self, inplanes:int, planes:int, stride:int):\n",
    "        super().__init__()\n",
    "        self.conv1 = nn.Conv2d(\n",
    "            in_channels=inplanes,\n",
    "            out_channels=planes,\n",
    "            kernel_size=3,\n",
    "            stride=stride,\n",
    "            padding=1,\n",
    "            bias=False\n",
    "        )\n",
    "        self.conv1_bn = nn.BatchNorm2d(planes)\n",
    "\n",
    "        self.conv2 = nn.Conv2d(\n",
    "            in_channels=planes,\n",
    "            out_channels=planes,\n",
    "            kernel_size=3,\n",
    "            stride=stride,\n",
    "            padding=1,\n",
    "            bias=False\n",
    "        )\n",
    "        self.conv2_bn = nn.BatchNorm2d(planes)\n",
    "\n",
    "        self.conv_g = nn.Conv2d(\n",
    "            in_channels=inplanes,\n",
    "            out_channels=planes,\n",
    "            kernel_size=1,\n",
    "            stride=1,\n",
    "            padding=1,\n",
    "            bias=False\n",
    "        )\n",
    "        self.conv_g_bn = nn.BatchNorm2d(planes)\n",
    "    \n",
    "    def forward(self, X:torch.Tensor):\n",
    "        fx = self.conv1(X)\n",
    "        fx = self.conv1_bn(fx)\n",
    "        fx = nn.functional.relu(fx)\n",
    "        fx = self.conv2(fx)\n",
    "        fx = self.conv2_bn(fx)\n",
    "\n",
    "        if X.shape == fx.shape:\n",
    "            gx = X\n",
    "        else:\n",
    "            gx = self.conv_g(X)\n",
    "            gx = self.conv_g_bn(gx)\n",
    "\n",
    "        out = nn.functional.relu(fx + gx)\n",
    "        return out\n",
    "\n"
   ]
  }
 ],
 "metadata": {
  "kernelspec": {
   "display_name": "Python 3.8.15 ('cvcs')",
   "language": "python",
   "name": "python3"
  },
  "language_info": {
   "codemirror_mode": {
    "name": "ipython",
    "version": 3
   },
   "file_extension": ".py",
   "mimetype": "text/x-python",
   "name": "python",
   "nbconvert_exporter": "python",
   "pygments_lexer": "ipython3",
   "version": "3.8.15"
  },
  "orig_nbformat": 4,
  "vscode": {
   "interpreter": {
    "hash": "7bbfd6784df6fbfc7d8f0bcf4217ce09583e76b62075abb50a2d3eb40621ede0"
   }
  }
 },
 "nbformat": 4,
 "nbformat_minor": 2
}
