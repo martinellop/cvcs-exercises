{
 "cells": [
  {
   "cell_type": "markdown",
   "metadata": {},
   "source": [
    "# 2D Transpose Convolution\n",
    "\n",
    "Your code will take an input tensor *input* with shape (n, iC, H, W), a kernel *kernel* with shape (iC, oC, kH, kW) and a stride *s*.\n",
    "\n",
    "It needs then to apply a 2D Transpose convolution over *input*, using *kernel* as kernel tensor, using a stride of *s* on both axes, no dilation, no grouping, and no padding, and store the result in *out*.\n",
    "\n",
    "*input* and *kernel* are torch.Tensor with dtype torch.float32. *s* is an integer."
   ]
  },
  {
   "cell_type": "code",
   "execution_count": 6,
   "metadata": {},
   "outputs": [],
   "source": [
    "import random\n",
    "import torch\n",
    "\n",
    "n = random.randint(2, 6)\n",
    "iC = random.randint(2, 6)\n",
    "oC = random.randint(2, 6)\n",
    "H = random.randint(10, 20)\n",
    "W = random.randint(10, 20)\n",
    "kH = random.randint(2, 6)\n",
    "kW = random.randint(2, 6)\n",
    "s = random.randint(2, 6)\n",
    "\n",
    "input = torch.rand(n, iC, H, W)\n",
    "kernel = torch.rand(iC, oC, kH, kW)"
   ]
  },
  {
   "cell_type": "code",
   "execution_count": 22,
   "metadata": {},
   "outputs": [],
   "source": [
    "#let's make the two tensor broadcastable\n",
    "input_1 = input.unsqueeze(2).unsqueeze(-1).unsqueeze(-1)\n",
    "kernel_1 = kernel.unsqueeze(0)\n",
    "\n",
    "out_w = (W * kW) - ((W - 1)*(kW - s))\n",
    "out_h = (H * kH) - ((H - 1)*(kH - s))\n",
    "\n",
    "\n",
    "out = torch.zeros((n, oC, out_h, out_w), dtype=torch.float32)\n",
    "\n",
    "for i in range(W):\n",
    "    for j in range(H):\n",
    "        conv = input_1[:,:,:,j,i] * kernel_1[:,:,:]\n",
    "        out[:,:,j:j+kH,i:i+kW] += conv.sum(1)\n",
    "\n"
   ]
  }
 ],
 "metadata": {
  "kernelspec": {
   "display_name": "Python 3.8.15 ('cvcs')",
   "language": "python",
   "name": "python3"
  },
  "language_info": {
   "codemirror_mode": {
    "name": "ipython",
    "version": 3
   },
   "file_extension": ".py",
   "mimetype": "text/x-python",
   "name": "python",
   "nbconvert_exporter": "python",
   "pygments_lexer": "ipython3",
   "version": "3.8.15"
  },
  "orig_nbformat": 4,
  "vscode": {
   "interpreter": {
    "hash": "7bbfd6784df6fbfc7d8f0bcf4217ce09583e76b62075abb50a2d3eb40621ede0"
   }
  }
 },
 "nbformat": 4,
 "nbformat_minor": 2
}
