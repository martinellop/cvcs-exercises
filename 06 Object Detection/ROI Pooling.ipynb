{
 "cells": [
  {
   "cell_type": "markdown",
   "metadata": {},
   "source": [
    "# RoI Pooling\n",
    "\n",
    "Implement a ROI Pooling operator. Your code will be given the following variables:\n",
    "\n",
    "* *input*, a mini-batch of feature maps (a torch.Tensor with shape (n, C, H, W) and dtype torch.float32)\n",
    "\n",
    "* *boxes*, a list of bounding box coordinates on which you need to perform the ROI Pooling. boxes will be a list of (L,4) torch.Tensor with dtype torch.float32, where boxes[i] will refer to the i-th element of the batch, and contain L coordinates in the format (y1, x1, y2, x2)\n",
    "\n",
    "* a tuple of integers *output_size*, containing the number of cells over which pooling is performed, in the format (heigth, width)\n",
    "\n",
    "The code should produce an output torch.Tensor *out* with dtype torch.float32 and shape (n, L, C, output_size[0], output_size[1])."
   ]
  },
  {
   "cell_type": "code",
   "execution_count": 1,
   "metadata": {},
   "outputs": [],
   "source": [
    "import random\n",
    "import torch\n",
    "\n",
    "n = random.randint(1, 3)\n",
    "C = random.randint(10, 20)\n",
    "H = random.randint(5, 10)\n",
    "W = random.randint(5, 10)\n",
    "oH = random.randint(2, 4)\n",
    "oW = random.randint(2, 4)\n",
    "L = random.randint(2, 6)\n",
    "input = torch.rand(n, C, H, W)\n",
    "boxes = [torch.zeros(L, 4) for _ in range(n)]\n",
    "for i in range(n):\n",
    "  boxes[i][:, 0] = torch.rand(L) * (H-oH)       # y\n",
    "  boxes[i][:, 1] = torch.rand(L) * (W-oW)       # x\n",
    "  boxes[i][:, 2] = oH + torch.rand(L) * (H-oH)  # w\n",
    "  boxes[i][:, 3] = oW + torch.rand(L) * (W-oW)  # h\n",
    "\n",
    "  boxes[i][:,2:] += boxes[i][:,:2]\n",
    "  boxes[i][:,2] = torch.clamp(boxes[i][:,2], max=H-1)\n",
    "  boxes[i][:,3] = torch.clamp(boxes[i][:,3], max=W-1)\n",
    "output_size = (oH, oW)"
   ]
  }
 ],
 "metadata": {
  "kernelspec": {
   "display_name": "Python 3.8.15 ('cvcs')",
   "language": "python",
   "name": "python3"
  },
  "language_info": {
   "codemirror_mode": {
    "name": "ipython",
    "version": 3
   },
   "file_extension": ".py",
   "mimetype": "text/x-python",
   "name": "python",
   "nbconvert_exporter": "python",
   "pygments_lexer": "ipython3",
   "version": "3.8.15"
  },
  "orig_nbformat": 4,
  "vscode": {
   "interpreter": {
    "hash": "7bbfd6784df6fbfc7d8f0bcf4217ce09583e76b62075abb50a2d3eb40621ede0"
   }
  }
 },
 "nbformat": 4,
 "nbformat_minor": 2
}
