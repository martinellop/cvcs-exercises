{
 "cells": [
  {
   "cell_type": "markdown",
   "metadata": {},
   "source": [
    "# Template Matching\n",
    "\n",
    "Your code will take as input a mini-batch of feature maps *input* (a torch.Tensor tensor with dtype torch.float32 and shape (n, H, W)), and a template *template* (a torch.Tensor with dtype torch.float32 and shape (kH, kW)). \n",
    "\n",
    "It then needs to compare the template against all samples in the mini-batch in a sliding window fashion, and store the result in *out*.\n",
    "\n",
    "*out* will have shape (n, oH, oW), where oH=H-(kH-1) and oW=W-(kW-1), and out[i, :, :] will contain the similarity between the template and the i-th feature map at all valid locations. \n",
    "\n",
    "Use the sum of squared differences as comparison function."
   ]
  },
  {
   "cell_type": "code",
   "execution_count": 1,
   "metadata": {},
   "outputs": [],
   "source": [
    "import random\n",
    "import torch\n",
    "\n",
    "n = random.randint(1, 3)\n",
    "H = random.randint(10, 20)\n",
    "W = random.randint(10, 20)\n",
    "kH = random.randint(2, 6)\n",
    "kW = random.randint(2, 6)\n",
    "input = torch.rand((n, H, W), dtype=torch.float32)\n",
    "template = torch.rand((kH, kW), dtype=torch.float32)"
   ]
  },
  {
   "cell_type": "code",
   "execution_count": 7,
   "metadata": {},
   "outputs": [
    {
     "name": "stdout",
     "output_type": "stream",
     "text": [
      "tensor([[[1.6383e-01, 3.2740e-02, 5.8287e-02, 2.6775e-03, 2.5610e-03,\n",
      "          9.3083e-02],\n",
      "         [1.2115e-01, 1.0952e-03, 2.3095e-02, 9.5251e-02, 1.6277e-01,\n",
      "          1.5952e-01]],\n",
      "\n",
      "        [[5.1620e-02, 8.2598e-01, 1.3909e-01, 2.4341e-01, 5.6623e-02,\n",
      "          3.5000e-01],\n",
      "         [1.4601e-01, 1.6282e-01, 7.1519e-02, 2.5216e-01, 1.0201e-01,\n",
      "          9.7064e-02]],\n",
      "\n",
      "        [[3.4139e-02, 1.6818e-01, 2.6576e-01, 8.0609e-02, 2.3320e-01,\n",
      "          4.0392e-02],\n",
      "         [3.6799e-01, 2.5193e-04, 6.5415e-01, 6.3947e-02, 7.1904e-01,\n",
      "          6.7562e-02]]])\n"
     ]
    }
   ],
   "source": [
    "wo = int((W - kW) + 1)\n",
    "ho = int((H - kH) + 1)\n",
    "out = torch.zeros((n,ho,wo))\n",
    "\n",
    "for i in range(wo):\n",
    "    for j in range(ho):\n",
    "        im = input[:,j:j+kH,i:i+kW]\n",
    "        res = torch.pow(im-template,2)\n",
    "        out[:,j,i] = res.sum(dim=(1,2))"
   ]
  }
 ],
 "metadata": {
  "kernelspec": {
   "display_name": "Python 3.8.15 ('cvcs')",
   "language": "python",
   "name": "python3"
  },
  "language_info": {
   "codemirror_mode": {
    "name": "ipython",
    "version": 3
   },
   "file_extension": ".py",
   "mimetype": "text/x-python",
   "name": "python",
   "nbconvert_exporter": "python",
   "pygments_lexer": "ipython3",
   "version": "3.8.15"
  },
  "orig_nbformat": 4,
  "vscode": {
   "interpreter": {
    "hash": "7bbfd6784df6fbfc7d8f0bcf4217ce09583e76b62075abb50a2d3eb40621ede0"
   }
  }
 },
 "nbformat": 4,
 "nbformat_minor": 2
}
